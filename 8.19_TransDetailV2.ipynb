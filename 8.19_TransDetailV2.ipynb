{
 "cells": [
  {
   "cell_type": "code",
   "execution_count": 1,
   "metadata": {},
   "outputs": [],
   "source": [
    "import openpyxl\n",
    "from openpyxl import Workbook\n",
    "from openpyxl import load_workbook"
   ]
  },
  {
   "cell_type": "code",
   "execution_count": 2,
   "metadata": {},
   "outputs": [],
   "source": [
    "import numpy as np"
   ]
  },
  {
   "cell_type": "code",
   "execution_count": 3,
   "metadata": {
    "scrolled": true
   },
   "outputs": [
    {
     "name": "stderr",
     "output_type": "stream",
     "text": [
      "C:\\Users\\jeremy.wendt\\Anaconda3\\lib\\site-packages\\openpyxl\\styles\\stylesheet.py:214: UserWarning: Workbook contains no default style, apply openpyxl's default\n",
      "  warn(\"Workbook contains no default style, apply openpyxl's default\")\n"
     ]
    },
    {
     "name": "stdout",
     "output_type": "stream",
     "text": [
      "Wall time: 2min 28s\n"
     ]
    }
   ],
   "source": [
    "%%time\n",
    "\n",
    "book = load_workbook(\"Find Journal Lines - NMSS 2020-08-11 13_55 PDT.xlsx\")"
   ]
  },
  {
   "cell_type": "code",
   "execution_count": 4,
   "metadata": {},
   "outputs": [],
   "source": [
    "current_month = 10"
   ]
  },
  {
   "cell_type": "code",
   "execution_count": 5,
   "metadata": {},
   "outputs": [],
   "source": [
    "ws = book[\"Sheet1\"]"
   ]
  },
  {
   "cell_type": "code",
   "execution_count": 6,
   "metadata": {},
   "outputs": [
    {
     "name": "stdout",
     "output_type": "stream",
     "text": [
      "254212\n"
     ]
    }
   ],
   "source": [
    "num_rows = ws.max_row\n",
    "\n",
    "curr_row = 37\n",
    "\n",
    "print(num_rows)"
   ]
  },
  {
   "cell_type": "code",
   "execution_count": 7,
   "metadata": {},
   "outputs": [],
   "source": [
    "titles = [cell.value for cell in ws[37]]"
   ]
  },
  {
   "cell_type": "code",
   "execution_count": 8,
   "metadata": {},
   "outputs": [
    {
     "name": "stdout",
     "output_type": "stream",
     "text": [
      "['Journal', 'Journal Number', 'Journal Sequence Number', 'Journal Memo', 'Operational Transaction', 'Originated by', 'Approved by', 'Company', 'Intercompany Initiating Company', 'Status', 'Accounting Date', 'Posted Date', 'Source', 'Ledger', 'Currency', 'Ledger Account', 'Ledger Debit Amount', 'Ledger Credit Amount', 'Line Memo', 'External Reference ID', 'Spend Category', 'Revenue Category', 'Cost Center', 'Fund', 'Gift', 'Program', 'Project', 'Region', 'Location', 'Fundraising Type', 'InKind', 'State', 'Bank Account', 'Intercompany Affiliate', 'Supplier', 'Customer', 'Employee', 'Match ID']\n"
     ]
    }
   ],
   "source": [
    "print(titles)"
   ]
  },
  {
   "cell_type": "code",
   "execution_count": 9,
   "metadata": {},
   "outputs": [
    {
     "name": "stdout",
     "output_type": "stream",
     "text": [
      "Wall time: 23.5 s\n"
     ]
    }
   ],
   "source": [
    "%%time\n",
    "data = []\n",
    "\n",
    "while curr_row < num_rows:\n",
    "    curr_row += 1\n",
    "    row = {}\n",
    "    for i in range(len(titles)):\n",
    "                row[titles[i]] = ws.cell(row=curr_row, column=i+1).value\n",
    "    data.append(row)\n",
    "        "
   ]
  },
  {
   "cell_type": "code",
   "execution_count": 10,
   "metadata": {},
   "outputs": [],
   "source": [
    "# Need to add column for In-Kind\n",
    "for row in data:\n",
    "    row['Debit-Credit'] = row['Ledger Debit Amount'] - row['Ledger Credit Amount']"
   ]
  },
  {
   "cell_type": "code",
   "execution_count": 11,
   "metadata": {},
   "outputs": [],
   "source": [
    "for row in data:\n",
    "    number = row['Ledger Account'][:1]\n",
    "    if number == str(5):\n",
    "        row['Rev/Exp/DBD'] = \"Expense\"\n",
    "    elif number == str(4):\n",
    "        row['Rev/Exp/DBD'] = \"Revenue\"\n",
    "    elif number == str(6):\n",
    "        row['Rev/Exp/DBD'] = \"DBD\"\n",
    "    else:\n",
    "        row['Rev/Exp/DBD'] = \"Other\"    "
   ]
  },
  {
   "cell_type": "code",
   "execution_count": 12,
   "metadata": {},
   "outputs": [
    {
     "name": "stdout",
     "output_type": "stream",
     "text": [
      "10\n"
     ]
    }
   ],
   "source": [
    "import datetime\n",
    "\n",
    "for row in data:\n",
    "    row['Month'] = row['Accounting Date'].month\n",
    "    \n",
    "print(data[600]['Month'])"
   ]
  },
  {
   "cell_type": "code",
   "execution_count": 13,
   "metadata": {},
   "outputs": [],
   "source": [
    "book2 = load_workbook(\"Ledger_Account_Table.xlsx\")\n",
    "\n",
    "ws2 = book2[\"Sheet1\"]"
   ]
  },
  {
   "cell_type": "code",
   "execution_count": 14,
   "metadata": {},
   "outputs": [
    {
     "name": "stdout",
     "output_type": "stream",
     "text": [
      "4002:Event Sponsorships\n"
     ]
    }
   ],
   "source": [
    "curr_row = 0\n",
    "\n",
    "\n",
    "data2 = []\n",
    "titles2 = []\n",
    "\n",
    "\n",
    "while curr_row < num_rows:\n",
    "        curr_row += 1\n",
    "        if not titles2:\n",
    "            titles2 = [cell.value for cell in ws2[curr_row]]\n",
    "            continue\n",
    "        row = {}\n",
    "        for i in range(len(titles2)):\n",
    "            row[titles2[i]] = ws2.cell(row=curr_row, column=i+1)\n",
    "        data2.append(row)\n",
    "        \n",
    "print(data2[2]['Ledger Account'].value)"
   ]
  },
  {
   "cell_type": "code",
   "execution_count": 15,
   "metadata": {},
   "outputs": [],
   "source": [
    "data3 = {}\n",
    "\n",
    "for row in data2:\n",
    "    data3[row['Ledger Account'].value]=row['In/Out'].value\n",
    "\n"
   ]
  },
  {
   "cell_type": "code",
   "execution_count": 16,
   "metadata": {},
   "outputs": [],
   "source": [
    "for row in data:\n",
    "    row['In/Out'] = data3.get(row['Ledger Account'], \"\")"
   ]
  },
  {
   "cell_type": "code",
   "execution_count": 17,
   "metadata": {},
   "outputs": [
    {
     "name": "stdout",
     "output_type": "stream",
     "text": [
      "['Print Media', 'Contributed Services Expense', 'Audit Fees', 'Email Communications', 'Postage', 'Depreciation Expense', 'Meetings, Conferences, Conventions', 'Office Equipment Expense', 'DBD Event Supplies', 'Supplies General Office', 'DBD Volunteer Incentives', 'DBD Entertainment', 'DFA Critical ST Needs', 'DBD Other Expense', 'Other Professional Fees', 'DFA Health and Wellness', 'Lodging', 'Research Grant Expense', 'Joint Cost Postage', 'Miscellaneous Expense', 'Computer Equipment Expense', 'DFA Mental Health Support', 'DBD Promotional Items', 'Telephone Expense', 'Miscellaneous Interest Expense', 'Joint Cost Professional Fees', 'Bad Debt Expense', 'DBD Sanitation', 'Traditional Advertising & Media', 'Express Mail Delivery', 'Airfare', 'Meeting Entertainment', 'Photographs', 'Business Insurance & Casualty Expense', 'DBD Travel Expense', 'DBD Participant Incentives', 'Website-Web Presence', 'Audio & Visual Content Creation', 'DBD Prizes', 'Bank Fees', 'Repairs & Maintenance', 'DBD Team Incentives', 'Staff Training', 'DFA Transportation', 'DFA Respite Services', 'Storage Rent Expense', 'Property Tax Expense', 'Copy Center', 'Joint Cost Print Media', 'Office Rent Expense', 'DBD Awards Banquet', 'DBD Raffle Items', 'Meetings Meals', 'DBD Volunteer Expense', 'DFA Access Mods', 'Messenger Courier Services', 'Tax Filing Fees', 'Other Staff Expense', 'DBD Logistics Security', 'DBD Decorations', 'Reprints & Publication', 'Clinical Grant Expense', 'Meetings Transportation and Lodging', 'Equipment Rental', 'Meeting In House Delivery Charges', 'Artwork & Graphic Design', 'Meeting Gratuities', 'Meeting Signage', 'Appropriation Grant Expense', 'Awards & Prizes', 'Ground Transportation', 'Other Travel Expense', 'Utilities', 'Meetings Audio Visual', 'DFA Natural Disasters', 'Meals', 'Internet Expense', 'DBD Facility Rental', 'Office Moving Expense', 'Dues', 'DBD Food & Beverage', 'Staff Tuition Reimbursement', 'Office Cleaning & CAM Expense', 'Digital Advertising & Media', 'DFA DME', 'DFA Other', 'DBD Merchandise', None, 'Security Expense', 'DBD Vehicle Rental Expense', 'Legal Services', 'Credit Card Fees', 'IT Data Services', 'Meeting Decorations', 'Temporary & Contractor Fees', 'DBD Lodging', 'Books Subscriptions References']\n"
     ]
    }
   ],
   "source": [
    "Spend_Cats = []\n",
    "\n",
    "for i in range(len(data)):\n",
    "    if data[i]['In/Out']=='In':\n",
    "        Spend_Cats.append(data[i]['Spend Category']) \n",
    "    \n",
    "spendcats = list(set(Spend_Cats))\n",
    "print(spendcats)\n",
    "    "
   ]
  },
  {
   "cell_type": "code",
   "execution_count": 18,
   "metadata": {},
   "outputs": [
    {
     "name": "stdout",
     "output_type": "stream",
     "text": [
      "[10, 11, 12, 1, 2, 3, 4, 5, 6, 7, 8, 9]\n"
     ]
    }
   ],
   "source": [
    "FYmonths = [10,11,12,1,2,3,4,5,6,7,8,9]\n",
    "\n",
    "print(FYmonths)"
   ]
  },
  {
   "cell_type": "code",
   "execution_count": 19,
   "metadata": {},
   "outputs": [
    {
     "name": "stdout",
     "output_type": "stream",
     "text": [
      "['CC019 Corporate Relations', 'CC033 Community Leadership', 'CC008 Legal and Risk', 'CC020 Do It Yourself (DIY)', 'CC005 Facilities', 'CC018 Direct Marketing\\xa0', 'CC003 ELT', 'CC029 Professional Education', 'CC025 Other Special Events', 'CC032 Services Resources', 'CC010 Digital Marketing', 'CC021 Challenge Walk', 'CC015 Development', 'CC011 Brand Management', 'CC028 MS Navigator', 'CC034 Community Engagement', 'CC006 Human Resources', 'CC024 Walk MS', None, 'CC007 Volunteer Engagement', 'CC022 Leadership Events', 'CC012 Technology', 'CC013 Strategic Finance', 'CC001 Research', 'CC017 Tools and Resources', 'CC014 Finance Operations', 'CC035 Event Production', 'CC023 Bike MS', 'CC002 Advocacy', 'CC009 Marketing', 'CC036 Fundraising Support', 'CC026 MuckFest MS', 'CC016 Individual Giving', 'CC004 Operations', 'CC027 Programs & Services']\n"
     ]
    }
   ],
   "source": [
    "Cost_centers = []\n",
    "\n",
    "for i in range(len(data)):\n",
    "    Cost_centers.append(data[i]['Cost Center']) \n",
    "    \n",
    "myset = list(set(Cost_centers))\n",
    "print(myset)"
   ]
  },
  {
   "cell_type": "code",
   "execution_count": 20,
   "metadata": {},
   "outputs": [],
   "source": [
    "def create_department(Cost_Center):\n",
    "    listname = []\n",
    "    for key, row in enumerate(data):\n",
    "        if row['Cost Center'] == Cost_Center and row['In/Out']==\"In\":\n",
    "            listname.append(row)    \n",
    "    return listname"
   ]
  },
  {
   "cell_type": "code",
   "execution_count": 21,
   "metadata": {},
   "outputs": [],
   "source": [
    "Volunteer_Engagement = create_department('CC007 Volunteer Engagement')\n",
    "HR = create_department('CC006 Human Resources')\n",
    "Technology = create_department('CC012 Technology')\n",
    "FinanceOps = create_department('CC014 Finance Operations')\n",
    "Facilities = create_department('CC005 Facilities')\n",
    "Operations = create_department('CC004 Operations')\n",
    "Legal = create_department('CC008 Legal and Risk')\n",
    "    "
   ]
  },
  {
   "cell_type": "code",
   "execution_count": 22,
   "metadata": {},
   "outputs": [],
   "source": [
    "def filter_write(SC, dept, month):\n",
    "    total = 0\n",
    "    for key,row in enumerate(dept):\n",
    "        if row['Spend Category'] == SC and row['Month'] == month:\n",
    "            total += row['Debit-Credit']\n",
    "    return total\n",
    "\n",
    "\n"
   ]
  },
  {
   "cell_type": "code",
   "execution_count": 23,
   "metadata": {},
   "outputs": [],
   "source": [
    "def filter_Rev(GL, dept, month):\n",
    "    total = 0\n",
    "    for key,row in enumerate(dept):\n",
    "        if row['Ledger Account'] == GL and row['Month'] == month:\n",
    "            total += row['Debit-Credit']\n",
    "    return total"
   ]
  },
  {
   "cell_type": "code",
   "execution_count": 29,
   "metadata": {},
   "outputs": [],
   "source": [
    "file = 'Dept_Template.xlsx'\n",
    "\n",
    "wb = openpyxl.load_workbook(filename=file)\n",
    "ws3 = wb['Sheet1']    \n"
   ]
  },
  {
   "cell_type": "code",
   "execution_count": 30,
   "metadata": {},
   "outputs": [],
   "source": [
    "def copy_revenue(Department):\n",
    "    for i in range(len(FYmonths)):   \n",
    "        for j in range(ws3.max_row):\n",
    "            if ws3.cell(row = j+1, column = 1).value == 1 or ws3.cell(row = j+1, column = 2).value == None:\n",
    "                continue      \n",
    "            elif ws3.cell(row = j+1, column = 2).value == 'Total Expense':\n",
    "                break \n",
    "            else:\n",
    "                ws3.cell(row = j+1, column = i+3).value = filter_Rev(ws3.cell(row=j+1, column = 2).value, Department, FYmonths[i]) \n"
   ]
  },
  {
   "cell_type": "code",
   "execution_count": 31,
   "metadata": {},
   "outputs": [],
   "source": [
    "def copy_expenses(Department):\n",
    "    for i in range(len(FYmonths)):   \n",
    "        for j in range(18, ws3.max_row):\n",
    "            if ws3.cell(row = j+1, column = 1).value == 1 or ws3.cell(row = j+1, column = 2).value == None:\n",
    "                continue      \n",
    "            elif ws3.cell(row = j+1, column = 2).value == 'Total Expense':\n",
    "                break \n",
    "            else:\n",
    "                ws3.cell(row = j+1, column = i+3).value = filter_write(ws3.cell(row=j+1, column = 2).value, Department, FYmonths[i]) \n"
   ]
  },
  {
   "cell_type": "code",
   "execution_count": 32,
   "metadata": {},
   "outputs": [],
   "source": [
    "def copy_data_save(Department, name, month):\n",
    "    copy_revenue(Department)\n",
    "    copy_expenses(Department)\n",
    "    ws3.cell(row = 3, column = 3).value = month\n",
    "    ws3.cell(row = 4, column = 3).value = name\n",
    "    wb.save(name+\".xlsx\")\n",
    "    "
   ]
  },
  {
   "cell_type": "code",
   "execution_count": 33,
   "metadata": {},
   "outputs": [],
   "source": [
    "copy_data_save(Facilities, \"Facilities\", current_month)\n",
    "copy_data_save(HR, \"Human_Resources\", current_month)\n",
    "copy_data_save(FinanceOps, \"Finance\", current_month)\n",
    "copy_data_save(Operations, \"Operations\", current_month)\n",
    "copy_data_save(Legal, \"Legal\", current_month)"
   ]
  },
  {
   "cell_type": "code",
   "execution_count": null,
   "metadata": {},
   "outputs": [],
   "source": [
    "\n",
    "\n"
   ]
  },
  {
   "cell_type": "code",
   "execution_count": null,
   "metadata": {},
   "outputs": [],
   "source": []
  },
  {
   "cell_type": "code",
   "execution_count": null,
   "metadata": {},
   "outputs": [],
   "source": []
  },
  {
   "cell_type": "code",
   "execution_count": null,
   "metadata": {},
   "outputs": [],
   "source": []
  },
  {
   "cell_type": "code",
   "execution_count": null,
   "metadata": {},
   "outputs": [],
   "source": []
  }
 ],
 "metadata": {
  "kernelspec": {
   "display_name": "Python 3",
   "language": "python",
   "name": "python3"
  },
  "language_info": {
   "codemirror_mode": {
    "name": "ipython",
    "version": 3
   },
   "file_extension": ".py",
   "mimetype": "text/x-python",
   "name": "python",
   "nbconvert_exporter": "python",
   "pygments_lexer": "ipython3",
   "version": "3.7.6"
  }
 },
 "nbformat": 4,
 "nbformat_minor": 4
}
