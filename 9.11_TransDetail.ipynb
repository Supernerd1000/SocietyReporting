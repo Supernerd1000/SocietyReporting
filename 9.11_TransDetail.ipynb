{
 "cells": [
  {
   "cell_type": "code",
   "execution_count": 8,
   "metadata": {},
   "outputs": [],
   "source": [
    "import openpyxl\n",
    "from openpyxl import Workbook\n",
    "from openpyxl import load_workbook"
   ]
  },
  {
   "cell_type": "code",
   "execution_count": 9,
   "metadata": {},
   "outputs": [],
   "source": [
    "import numpy as np"
   ]
  },
  {
   "cell_type": "code",
   "execution_count": 10,
   "metadata": {},
   "outputs": [
    {
     "name": "stdout",
     "output_type": "stream",
     "text": [
      "Wall time: 5min 20s\n"
     ]
    }
   ],
   "source": [
    "%%time\n",
    "\n",
    "from pyexcel.cookbook import merge_all_to_a_book\n",
    "# import pyexcel.ext.xlsx # no longer required if you use pyexcel >= 0.2.2 \n",
    "import glob\n",
    "\n",
    "\n",
    "merge_all_to_a_book(glob.glob(\"C:/Users/jeremy.wendt/Anaconda3/envs/core_python_trans/Detail_Trans 2020-09-11 09_06 PDT.csv\"), \"C:/Users/jeremy.wendt/Anaconda3/envs/core_python_trans/Detail_Trans 2020-09-11 09_06 PDT.xlsx\")"
   ]
  },
  {
   "cell_type": "code",
   "execution_count": 7,
   "metadata": {
    "scrolled": true
   },
   "outputs": [
    {
     "name": "stderr",
     "output_type": "stream",
     "text": [
      "C:\\Users\\jeremy.wendt\\Anaconda3\\lib\\site-packages\\openpyxl\\styles\\stylesheet.py:214: UserWarning: Workbook contains no default style, apply openpyxl's default\n",
      "  warn(\"Workbook contains no default style, apply openpyxl's default\")\n"
     ]
    },
    {
     "name": "stdout",
     "output_type": "stream",
     "text": [
      "Wall time: 2min 59s\n"
     ]
    }
   ],
   "source": [
    "%%time\n",
    "\n",
    "book = load_workbook(\"Detail_Trans 2020-09-10 07_56 PDT.xlsx\")"
   ]
  },
  {
   "cell_type": "code",
   "execution_count": 4,
   "metadata": {},
   "outputs": [],
   "source": [
    "current_month = 10"
   ]
  },
  {
   "cell_type": "code",
   "execution_count": 5,
   "metadata": {},
   "outputs": [],
   "source": [
    "ws = book[\"Sheet1\"]"
   ]
  },
  {
   "cell_type": "code",
   "execution_count": 6,
   "metadata": {},
   "outputs": [
    {
     "name": "stdout",
     "output_type": "stream",
     "text": [
      "282232\n"
     ]
    }
   ],
   "source": [
    "num_rows = ws.max_row\n",
    "\n",
    "curr_row = 37\n",
    "\n",
    "print(num_rows)"
   ]
  },
  {
   "cell_type": "code",
   "execution_count": 7,
   "metadata": {},
   "outputs": [],
   "source": [
    "titles = [cell.value for cell in ws[37]]"
   ]
  },
  {
   "cell_type": "code",
   "execution_count": 8,
   "metadata": {},
   "outputs": [
    {
     "name": "stdout",
     "output_type": "stream",
     "text": [
      "['Journal', 'Journal Number', 'Journal Sequence Number', 'Journal Memo', 'Operational Transaction', 'Originated by', 'Approved by', 'Company', 'Intercompany Initiating Company', 'Status', 'Accounting Date', 'Posted Date', 'Source', 'Ledger', 'Currency', 'Ledger Account', 'Ledger Debit Amount', 'Ledger Credit Amount', 'Line Memo', 'External Reference ID', 'Spend Category', 'Revenue Category', 'Cost Center', 'Fund', 'Gift', 'Program', 'Project', 'Region', 'Location', 'Fundraising Type', 'InKind', 'State', 'Bank Account', 'Intercompany Affiliate', 'Supplier', 'Customer', 'Employee', 'Match ID']\n"
     ]
    }
   ],
   "source": [
    "print(titles)"
   ]
  },
  {
   "cell_type": "code",
   "execution_count": 9,
   "metadata": {},
   "outputs": [
    {
     "name": "stdout",
     "output_type": "stream",
     "text": [
      "Wall time: 29.8 s\n"
     ]
    }
   ],
   "source": [
    "%%time\n",
    "data = []\n",
    "\n",
    "while curr_row < num_rows:\n",
    "    curr_row += 1\n",
    "    row = {}\n",
    "    for i in range(len(titles)):\n",
    "                row[titles[i]] = ws.cell(row=curr_row, column=i+1).value\n",
    "    data.append(row)\n",
    "        "
   ]
  },
  {
   "cell_type": "code",
   "execution_count": 10,
   "metadata": {},
   "outputs": [],
   "source": [
    "# Need to add column for In-Kind\n",
    "for row in data:\n",
    "    row['Debit-Credit'] = row['Ledger Debit Amount'] - row['Ledger Credit Amount']"
   ]
  },
  {
   "cell_type": "code",
   "execution_count": 11,
   "metadata": {},
   "outputs": [],
   "source": [
    "for row in data:\n",
    "    number = row['Ledger Account'][:1]\n",
    "    if number == str(5):\n",
    "        row['Rev/Exp/DBD'] = \"Expense\"\n",
    "    elif number == str(4):\n",
    "        row['Rev/Exp/DBD'] = \"Revenue\"\n",
    "    elif number == str(6):\n",
    "        row['Rev/Exp/DBD'] = \"DBD\"\n",
    "    else:\n",
    "        row['Rev/Exp/DBD'] = \"Other\"    "
   ]
  },
  {
   "cell_type": "code",
   "execution_count": 12,
   "metadata": {},
   "outputs": [],
   "source": [
    "for row in data:\n",
    "    status = row['Status']\n",
    "    if status == \"Created\" or status == \"Posted\":\n",
    "        row['StatusIn'] = \"In\"\n",
    "    else:\n",
    "        row['StatusIn'] = \"Out\""
   ]
  },
  {
   "cell_type": "code",
   "execution_count": 13,
   "metadata": {},
   "outputs": [
    {
     "name": "stdout",
     "output_type": "stream",
     "text": [
      "10\n"
     ]
    }
   ],
   "source": [
    "import datetime\n",
    "\n",
    "for row in data:\n",
    "    row['Month'] = row['Accounting Date'].month\n",
    "    \n",
    "print(data[600]['Month'])"
   ]
  },
  {
   "cell_type": "code",
   "execution_count": 14,
   "metadata": {},
   "outputs": [],
   "source": [
    "book2 = load_workbook(\"Ledger_Account_Table.xlsx\")\n",
    "\n",
    "ws2 = book2[\"Sheet1\"]"
   ]
  },
  {
   "cell_type": "code",
   "execution_count": 15,
   "metadata": {},
   "outputs": [
    {
     "name": "stdout",
     "output_type": "stream",
     "text": [
      "4002:Event Sponsorships\n"
     ]
    }
   ],
   "source": [
    "curr_row = 0\n",
    "\n",
    "\n",
    "data2 = []\n",
    "titles2 = []\n",
    "\n",
    "\n",
    "while curr_row < num_rows:\n",
    "        curr_row += 1\n",
    "        if not titles2:\n",
    "            titles2 = [cell.value for cell in ws2[curr_row]]\n",
    "            continue\n",
    "        row = {}\n",
    "        for i in range(len(titles2)):\n",
    "            row[titles2[i]] = ws2.cell(row=curr_row, column=i+1)\n",
    "        data2.append(row)\n",
    "        \n",
    "print(data2[2]['Ledger Account'].value)"
   ]
  },
  {
   "cell_type": "code",
   "execution_count": 16,
   "metadata": {},
   "outputs": [],
   "source": [
    "data3 = {}\n",
    "\n",
    "for row in data2:\n",
    "    data3[row['Ledger Account'].value]=row['In/Out'].value\n",
    "\n"
   ]
  },
  {
   "cell_type": "code",
   "execution_count": 17,
   "metadata": {},
   "outputs": [],
   "source": [
    "for row in data:\n",
    "    row['In/Out'] = data3.get(row['Ledger Account'], \"\")"
   ]
  },
  {
   "cell_type": "code",
   "execution_count": 18,
   "metadata": {},
   "outputs": [
    {
     "name": "stdout",
     "output_type": "stream",
     "text": [
      "['DBD Entertainment', 'DBD Prizes', 'DBD Raffle Items', 'Miscellaneous Interest Expense', 'DFA Transportation', 'Computer Equipment Expense', 'DFA Other', 'Other Staff Expense', 'Credit Card Fees', 'DBD Promotional Items', 'Messenger Courier Services', 'Miscellaneous Expense', 'DBD Other Expense', 'Joint Cost Professional Fees', 'DFA Natural Disasters', 'Dues', 'Meetings, Conferences, Conventions', 'Bank Fees', 'Joint Cost Print Media', 'Photographs', 'Storage Rent Expense', 'Audit Fees', 'Contributed Services Expense', 'Email Communications', 'Property Tax Expense', 'Tax Filing Fees', 'Utilities', 'Traditional Advertising & Media', 'Meeting Signage', 'DBD Participant Incentives', 'Express Mail Delivery', 'Other Professional Fees', 'Equipment Rental', 'DFA Health and Wellness', 'Airfare', 'Meeting Phone Lines', 'DFA Critical ST Needs', 'DBD Decorations', 'DBD Volunteer Expense', 'DBD Awards Banquet', 'Awards & Prizes', 'Office Equipment Expense', 'Meals', 'DFA DME', 'Internet Expense', 'DBD Merchandise', 'Office Rent Expense', 'Meetings Audio Visual', 'Legal Services', 'Lodging', 'Meeting Decorations', 'Security Expense', 'Supplies General Office', 'DBD Vehicle Rental Expense', 'DFA Mental Health Support', 'Copy Center', 'DBD Lodging', 'Other Travel Expense', 'Office Moving Expense', 'Postage', 'Meeting Gratuities', 'DBD Team Incentives', 'DBD Travel Expense', 'Staff Tuition Reimbursement', 'DBD Event Supplies', 'Temporary & Contractor Fees', 'Ground Transportation', 'DBD Food & Beverage', 'Meeting In House Delivery Charges', 'Office Cleaning & CAM Expense', 'Depreciation Expense', 'Meeting Entertainment', 'Audio & Visual Content Creation', 'Meetings Transportation and Lodging', 'IT Data Services', 'DFA Respite Services', 'Appropriation Grant Expense', 'DBD Sanitation', 'Telephone Expense', 'Research Grant Expense', 'Pending Corporate Card Expense', 'Repairs & Maintenance', 'Bad Debt Expense', 'Artwork & Graphic Design', 'Meetings Meals', 'Reprints & Publication', 'DBD Volunteer Incentives', 'Business Insurance & Casualty Expense', 'Staff Training', 'DFA Access Mods', None, 'Clinical Grant Expense', 'Website-Web Presence', 'Joint Cost Postage', 'Print Media', 'Books Subscriptions References', 'Digital Advertising & Media', 'DBD Logistics Security', 'DBD Facility Rental']\n"
     ]
    }
   ],
   "source": [
    "Spend_Cats = []\n",
    "\n",
    "for i in range(len(data)):\n",
    "    if data[i]['In/Out']=='In':\n",
    "        Spend_Cats.append(data[i]['Spend Category']) \n",
    "    \n",
    "spendcats = list(set(Spend_Cats))\n",
    "print(spendcats)\n",
    "    "
   ]
  },
  {
   "cell_type": "code",
   "execution_count": 19,
   "metadata": {},
   "outputs": [
    {
     "name": "stdout",
     "output_type": "stream",
     "text": [
      "[10, 11, 12, 1, 2, 3, 4, 5, 6, 7, 8, 9]\n"
     ]
    }
   ],
   "source": [
    "FYmonths = [10,11,12,1,2,3,4,5,6,7,8,9]\n",
    "\n",
    "print(FYmonths)"
   ]
  },
  {
   "cell_type": "code",
   "execution_count": 20,
   "metadata": {},
   "outputs": [
    {
     "name": "stdout",
     "output_type": "stream",
     "text": [
      "['CC014 Finance Operations', 'CC034 Community Engagement', 'CC010 Digital Marketing', 'CC019 Corporate Relations', 'CC033 Community Leadership', 'CC011 Brand Management', 'CC029 Professional Education', 'CC012 Technology', 'CC032 Services Resources', 'CC008 Legal and Risk', 'CC023 Bike MS', 'CC001 Research', 'CC035 Event Production', 'CC022 Leadership Events', 'CC009 Marketing', 'CC013 Strategic Finance', 'CC003 ELT', 'CC006 Human Resources', 'CC024 Walk MS', 'CC021 Challenge Walk', 'CC007 Volunteer Engagement', None, 'CC025 Other Special Events', 'CC004 Operations', 'CC017 Tools and Resources', 'CC002 Advocacy', 'CC026 MuckFest MS', 'CC027 Programs & Services', 'CC020 Do It Yourself (DIY)', 'CC015 Development', 'CC005 Facilities', 'CC036 Fundraising Support', 'CC028 MS Navigator', 'CC016 Individual Giving', 'CC018 Direct Marketing\\xa0']\n"
     ]
    }
   ],
   "source": [
    "Cost_centers = []\n",
    "\n",
    "for i in range(len(data)):\n",
    "    Cost_centers.append(data[i]['Cost Center']) \n",
    "    \n",
    "myset = list(set(Cost_centers))\n",
    "print(myset)"
   ]
  },
  {
   "cell_type": "code",
   "execution_count": 21,
   "metadata": {},
   "outputs": [],
   "source": [
    "def create_department(Cost_Center):\n",
    "    listname = []\n",
    "    for key, row in enumerate(data):\n",
    "        if row['Cost Center'] == Cost_Center and row['In/Out']==\"In\":\n",
    "            listname.append(row)    \n",
    "    return listname"
   ]
  },
  {
   "cell_type": "code",
   "execution_count": 22,
   "metadata": {},
   "outputs": [],
   "source": [
    "Volunteer_Engagement = create_department('CC007 Volunteer Engagement')\n",
    "HR = create_department('CC006 Human Resources')\n",
    "Technology = create_department('CC012 Technology')\n",
    "FinanceOps = create_department('CC014 Finance Operations')\n",
    "Facilities = create_department('CC005 Facilities')\n",
    "Operations = create_department('CC004 Operations')\n",
    "Legal = create_department('CC008 Legal and Risk')\n",
    "    "
   ]
  },
  {
   "cell_type": "code",
   "execution_count": 23,
   "metadata": {},
   "outputs": [],
   "source": [
    "def filter_write(SC, dept, month):\n",
    "    total = 0\n",
    "    for key,row in enumerate(dept):\n",
    "        if row['Spend Category'] == SC and row['Month'] == month:\n",
    "            total += row['Debit-Credit']\n",
    "    return total\n",
    "\n",
    "\n"
   ]
  },
  {
   "cell_type": "code",
   "execution_count": 24,
   "metadata": {},
   "outputs": [],
   "source": [
    "def filter_Rev(GL, dept, month):\n",
    "    total = 0\n",
    "    for key,row in enumerate(dept):\n",
    "        if row['Ledger Account'] == GL and row['Month'] == month:\n",
    "            total += row['Debit-Credit']\n",
    "    return total"
   ]
  },
  {
   "cell_type": "code",
   "execution_count": 25,
   "metadata": {},
   "outputs": [],
   "source": [
    "file = 'Dept_Template.xlsx'\n",
    "\n",
    "wb = openpyxl.load_workbook(filename=file)\n",
    "ws3 = wb['PnL']    \n"
   ]
  },
  {
   "cell_type": "code",
   "execution_count": 26,
   "metadata": {},
   "outputs": [],
   "source": [
    "def copy_revenue(Department):\n",
    "    for i in range(len(FYmonths)):   \n",
    "        for j in range(95):\n",
    "            if ws3.cell(row = j+1, column = 1).value == 1 or ws3.cell(row = j+1, column = 2).value == None:\n",
    "                continue      \n",
    "            elif ws3.cell(row = j+1, column = 2).value == 'Total Expense':\n",
    "                break \n",
    "            else:\n",
    "                ws3.cell(row = j+1, column = i+3).value = filter_Rev(ws3.cell(row=j+1, column = 2).value, Department, FYmonths[i]) \n"
   ]
  },
  {
   "cell_type": "code",
   "execution_count": 27,
   "metadata": {},
   "outputs": [],
   "source": [
    "def copy_expenses(Department):\n",
    "    for i in range(len(FYmonths)):   \n",
    "        for j in range(18, 95):\n",
    "            if ws3.cell(row = j+1, column = 1).value == 1 or ws3.cell(row = j+1, column = 2).value == None:\n",
    "                continue      \n",
    "            elif ws3.cell(row = j+1, column = 2).value == 'Total Expense':\n",
    "                break \n",
    "            else:\n",
    "                ws3.cell(row = j+1, column = i+3).value = filter_write(ws3.cell(row=j+1, column = 2).value, Department, FYmonths[i]) \n"
   ]
  },
  {
   "cell_type": "code",
   "execution_count": 28,
   "metadata": {},
   "outputs": [],
   "source": [
    "import shutil\n",
    "\n",
    "def copy_data_save(Department, name, month):\n",
    "    copy_revenue(Department)\n",
    "    copy_expenses(Department)\n",
    "    ws3.cell(row = 3, column = 3).value = month\n",
    "    ws3.cell(row = 4, column = 3).value = name\n",
    "    wb.save(name+\".xlsx\")\n",
    "\n",
    "    \n",
    "    "
   ]
  },
  {
   "cell_type": "code",
   "execution_count": 29,
   "metadata": {},
   "outputs": [],
   "source": [
    "# opening the source excel file \n",
    "def copy_budget(worksheet_and_file_name):\n",
    "    filename =\"C:\\\\Users\\\\jeremy.wendt\\\\Anaconda3\\\\envs\\\\core_python_trans\\\\FY21 ZBB Expense Template - Copy.xlsx\"\n",
    "    wb1 = load_workbook(filename) \n",
    "    ws1 = wb1[worksheet_and_file_name] \n",
    "    # opening the destination excel file  \n",
    "    filename1 =\"C:\\\\Users\\\\jeremy.wendt\\\\Anaconda3\\\\envs\\\\core_python_trans\\\\\"+worksheet_and_file_name+\".xlsx\"\n",
    "    wb2 = load_workbook(filename1) \n",
    "    ws2 = wb2[\"FY21 Budget\"]   \n",
    "    # calculate total number of rows and  \n",
    "    # columns in source excel file \n",
    "    mr = ws1.max_row \n",
    "    mc = ws1.max_column \n",
    "    # copying the cell values from source  \n",
    "    # excel file to destination excel file \n",
    "    for i in range (1, mr + 1): \n",
    "        for j in range (1, mc + 1): \n",
    "        # reading cell value from source excel file \n",
    "            c = ws1.cell(row = i, column = j) \n",
    "        # writing the read value to destination excel file \n",
    "            ws2.cell(row = i, column = j).value = c.value \n",
    "    # saving the destination excel file \n",
    "    wb2.save(str(filename1))"
   ]
  },
  {
   "cell_type": "code",
   "execution_count": 30,
   "metadata": {},
   "outputs": [],
   "source": [
    "copy_data_save(Facilities, \"Facilities\", current_month)\n",
    "copy_data_save(HR, \"HR\", current_month)\n",
    "copy_data_save(FinanceOps, \"Finance\", current_month)\n",
    "copy_data_save(Operations, \"Operations\", current_month)\n",
    "copy_data_save(Legal, \"Legal\", current_month)"
   ]
  },
  {
   "cell_type": "code",
   "execution_count": 31,
   "metadata": {},
   "outputs": [],
   "source": [
    "copy_budget(\"Facilities\")\n",
    "copy_budget(\"HR\")\n",
    "copy_budget(\"Finance\")\n",
    "copy_budget(\"Operations\")\n",
    "copy_budget(\"Legal\")"
   ]
  },
  {
   "cell_type": "code",
   "execution_count": 32,
   "metadata": {},
   "outputs": [],
   "source": [
    "import os\n",
    "newpath = r'C:\\Users\\jeremy.wendt\\Anaconda3\\envs\\core_python_trans\\Reports' \n",
    "if not os.path.exists(newpath):\n",
    "    os.makedirs(newpath)"
   ]
  },
  {
   "cell_type": "code",
   "execution_count": 33,
   "metadata": {},
   "outputs": [],
   "source": [
    "\n",
    "os.replace(\"C:/Users/jeremy.wendt/Anaconda3/envs/core_python_trans/HR.xlsx\", \"C:/Users/jeremy.wendt/Anaconda3/envs/core_python_trans/Reports/HR.xlsx\")\n",
    "os.replace(\"C:/Users/jeremy.wendt/Anaconda3/envs/core_python_trans/Finance.xlsx\", \"C:/Users/jeremy.wendt/Anaconda3/envs/core_python_trans/Reports/Finance.xlsx\")\n",
    "os.replace(\"C:/Users/jeremy.wendt/Anaconda3/envs/core_python_trans/Operations.xlsx\", \"C:/Users/jeremy.wendt/Anaconda3/envs/core_python_trans/Reports/Operations.xlsx\")\n",
    "os.replace(\"C:/Users/jeremy.wendt/Anaconda3/envs/core_python_trans/Legal.xlsx\", \"C:/Users/jeremy.wendt/Anaconda3/envs/core_python_trans/Reports/Legal.xlsx\")\n",
    "os.replace(\"C:/Users/jeremy.wendt/Anaconda3/envs/core_python_trans/Facilities.xlsx\", \"C:/Users/jeremy.wendt/Anaconda3/envs/core_python_trans/Reports/Facilities.xlsx\")"
   ]
  },
  {
   "cell_type": "code",
   "execution_count": null,
   "metadata": {},
   "outputs": [],
   "source": []
  },
  {
   "cell_type": "code",
   "execution_count": null,
   "metadata": {},
   "outputs": [],
   "source": []
  }
 ],
 "metadata": {
  "kernelspec": {
   "display_name": "Python 3",
   "language": "python",
   "name": "python3"
  },
  "language_info": {
   "codemirror_mode": {
    "name": "ipython",
    "version": 3
   },
   "file_extension": ".py",
   "mimetype": "text/x-python",
   "name": "python",
   "nbconvert_exporter": "python",
   "pygments_lexer": "ipython3",
   "version": "3.7.6"
  }
 },
 "nbformat": 4,
 "nbformat_minor": 4
}
